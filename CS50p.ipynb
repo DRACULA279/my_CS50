{
 "cells": [
  {
   "cell_type": "markdown",
   "id": "b57acbcb",
   "metadata": {},
   "source": [
    "Hello_world"
   ]
  },
  {
   "cell_type": "code",
   "execution_count": null,
   "id": "a0758678",
   "metadata": {},
   "outputs": [],
   "source": [
    "print(\"Hello, World!\")"
   ]
  },
  {
   "cell_type": "markdown",
   "id": "0aa754b9",
   "metadata": {},
   "source": [
    "Input_name"
   ]
  },
  {
   "cell_type": "code",
   "execution_count": null,
   "id": "6a1f3aaa",
   "metadata": {},
   "outputs": [],
   "source": [
    "user_name = input(\"What is your name?\")\n",
    "print(f\"Hello, {user_name}\")"
   ]
  },
  {
   "cell_type": "markdown",
   "id": "e03be807",
   "metadata": {},
   "source": [
    "NUMBERS"
   ]
  },
  {
   "cell_type": "code",
   "execution_count": null,
   "id": "50299290",
   "metadata": {},
   "outputs": [],
   "source": [
    "x = int(input(\"x: \"))\n",
    "y = int(input(\"y: \"))\n",
    "user_input = input(\"\"\"What is that you're seeking of these numbers?:   \\n\n",
    "                   Sum, Difference, Product, \\n\n",
    "                   Quotient, Power, Remainder, \n",
    "                   \\nAll\"\"\").strip().lower()\n",
    "\n",
    "if user_input == \"sum\":\n",
    "    print(f\"{x} + {y} = {x + y}\")\n",
    "elif user_input == \"difference\":\n",
    "    print(f\"{x} - {y} = {x - y}\")\n",
    "elif user_input == \"product\":\n",
    "    print(f\"The product of {x} and {y} = {x * y}\")\n",
    "elif user_input == \"quotient\":\n",
    "    print(f\"{x} / {y} = {x / y}\")\n",
    "elif user_input == \"remainder\":\n",
    "    print(f\"The remainder when {x} is divided by {y} = {x % y}\")\n",
    "elif user_input == \"power\":\n",
    "    print(f\"{x} to the power of {y} = {x ** y}\")   \n",
    "elif y == 0 and user_input in [\"quotient\", \"remainder\"]:\n",
    "    print(\"Undefined\")  \n",
    "elif user_input not in [\"sum\", \"difference\", \"product\", \"quotient\", \"remainder\", \"all\"]:\n",
    "    print(\"Invalid operation\")\n",
    "elif user_input == \"all\":\n",
    "    print(f\"{x} + {y} = {x + y}\")\n",
    "    print(f\"{x} - {y} = {x - y}\")\n",
    "    print(f\"The product of {x} and {y} = {x * y}\")\n",
    "    print(f\"{x} / {y} = {x / y}\")\n",
    "    print(f\"The remainder when {x} is divided by {y} = {x % y}\")\n",
    "    print(f\"{x} to the power of {y} = {x ** y}\")  \n"
   ]
  },
  {
   "cell_type": "markdown",
   "id": "202c08ab",
   "metadata": {},
   "source": [
    "Functions"
   ]
  },
  {
   "cell_type": "code",
   "execution_count": null,
   "id": "849344af",
   "metadata": {},
   "outputs": [],
   "source": [
    "def add(x, y):\n",
    "    return x + y\n",
    "\n",
    "def subtract(x, y):\n",
    "    return x - y\n",
    "\n",
    "def multiply(x, y):\n",
    "    return x * y\n",
    "\n",
    "def divide(x, y):\n",
    "    if y == 0:\n",
    "        return \"Undefined\"\n",
    "    return x / y\n",
    "\n",
    "def remainder(x, y):\n",
    "    if y == 0:\n",
    "        return \"Undefined\"\n",
    "    return x % y\n",
    "\n",
    "def power(x, y):\n",
    "    return x ** y\n",
    "\n",
    "def all_operations(x, y):\n",
    "    print(f\"{x} + {y} = {add(x, y)}\")\n",
    "    print(f\"{x} - {y} = {subtract(x, y)}\")\n",
    "    print(f\"The product of {x} and {y} = {multiply(x, y)}\")\n",
    "    print(f\"{x} / {y} = {divide(x, y)}\")\n",
    "    print(f\"The remainder when {x} is divided by {y} = {remainder(x, y)}\")\n",
    "    print(f\"{x} to the power of {y} = {power(x, y)}\")\n",
    "\n",
    "x = int(input(\"x: \"))\n",
    "y = int(input(\"y: \"))\n",
    "user_input = input(\"\"\"What is that you're seeking of these numbers?:   \n",
    "                   Sum, Difference, Product, \n",
    "                   Quotient, Power, Remainder, \n",
    "                   All\"\"\").strip().lower()\n",
    "\n",
    "if user_input == \"sum\":\n",
    "    print(f\"{x} + {y} = {add(x, y)}\")\n",
    "elif user_input == \"difference\":\n",
    "    print(f\"{x} - {y} = {subtract(x, y)}\")\n",
    "elif user_input == \"product\":\n",
    "    print(f\"The product of {x} and {y} = {multiply(x, y)}\")\n",
    "elif user_input == \"quotient\":\n",
    "    print(f\"{x} / {y} = {divide(x, y)}\")\n",
    "elif user_input == \"remainder\":\n",
    "    print(f\"The remainder when {x} is divided by {y} = {remainder(x, y)}\")\n",
    "elif user_input == \"power\":\n",
    "    print(f\"{x} to the power of {y} = {power(x, y)}\")\n",
    "elif user_input == \"all\":\n",
    "    all_operations(x, y)\n",
    "else:\n",
    "    print(\"Invalid operation\")"
   ]
  },
  {
   "cell_type": "markdown",
   "id": "e00cf01a",
   "metadata": {},
   "source": [
    "function - even or odd "
   ]
  },
  {
   "cell_type": "code",
   "execution_count": null,
   "id": "76563c56",
   "metadata": {},
   "outputs": [],
   "source": [
    "def even_or_odd():\n",
    "    num = int(input(\"Enter a number: \"))\n",
    "    if num % 2 == 0:\n",
    "        print(f\"{num} is even.\")\n",
    "    else:\n",
    "        print(f\"{num} is odd.\")\n",
    "even_or_odd()\n"
   ]
  },
  {
   "cell_type": "markdown",
   "id": "0fbf2893",
   "metadata": {},
   "source": [
    "Prime Numbers"
   ]
  },
  {
   "cell_type": "code",
   "execution_count": null,
   "id": "10956145",
   "metadata": {},
   "outputs": [],
   "source": [
    "def prime_checker():\n",
    "    while True:\n",
    "        num = input(\"Enter a number greater than 1 to check if its a prime or hit Esc to exit: \")\n",
    "\n",
    "        if not num.isdigit():\n",
    "            print(\"What part of 'Enter a NUMBER' don't you understand? Enter a number greater than 1 or hit Esc to exit: \")\n",
    "            continue\n",
    "        \n",
    "        num = int(num)\n",
    "\n",
    "        if num <= 1:\n",
    "            print(\"What part of 'number GREATER THAN 1' don't you understand? Enter a number greater than 1 or hit Esc to exit: \")\n",
    "            continue\n",
    "\n",
    "        factors = [i for i in range(1, num + 1) if num % i == 0]\n",
    "        print(\n",
    "            f\"The number {num} is a prime number.\" \n",
    "            if len(factors) == 2\n",
    "            else\n",
    "            f\"The number {num} is not a prime number as its factors are: {','.join(str(f) for f in factors[:-1])} and {factors[-1]}\"\n",
    "        )\n",
    "        break\n",
    "\n",
    "prime_checker()"
   ]
  },
  {
   "cell_type": "code",
   "execution_count": null,
   "id": "c27318be",
   "metadata": {},
   "outputs": [],
   "source": [
    "def prime_checker():\n",
    "    while True:\n",
    "\n",
    "        num = input(\"number?\").strip()\n",
    "\n",
    "        if not num.isdigit():\n",
    "            print(\"enter a number\")\n",
    "            continue\n",
    "\n",
    "        num = int(num)\n",
    "\n",
    "        if num <= 1:\n",
    "            print(\"enter a number\")\n",
    "            continue\n",
    "        \n",
    "        factors = [i for i in range(1,num) if num % i == 0]\n",
    "\n",
    "        print(\n",
    "            f\"The number {num} is a prime number.\" if len(factors) == 2\n",
    "            else \n",
    "            f\"The number {num} is not a prime number as its factors are {','.join(str(f) for f in factors[:-1])} and {factors[-1]}.\"\n",
    "        )\n",
    "        break\n",
    "\n",
    "prime_checker()"
   ]
  },
  {
   "cell_type": "markdown",
   "id": "24677e9e",
   "metadata": {},
   "source": [
    "Rock_paper_Scissors"
   ]
  },
  {
   "cell_type": "code",
   "execution_count": null,
   "id": "112f0067",
   "metadata": {},
   "outputs": [],
   "source": [
    "import random\n",
    "\n",
    "def pick_random():\n",
    "    return random.choice([\"rock\", \"paper\", \"scissors\"])\n",
    "\n",
    "user_score = 0\n",
    "computer_score = 0\n",
    "\n",
    "while True:\n",
    "    user_choice = input(\"choose rock or paper or scissors: \").strip().lower()\n",
    "    if user_choice not in [\"rock\", \"paper\", \"scissors\",\"exit\"]:\n",
    "        print(\"Invalid choice. Choose again.\")\n",
    "        continue\n",
    "    if user_choice == \"exit\":\n",
    "        print(f\"Final Scores - You: {user_score}, Computer: {computer_score}\"\n",
    "              f\" You played well, goodbye!\" if user_score > computer_score else\n",
    "              f\" Final Scores - You: {user_score}, Computer: {computer_score}. Better luck next time, goodbye!\")\n",
    "        break\n",
    "\n",
    "    computer_choice = pick_random()\n",
    "\n",
    "    if user_choice == computer_choice:\n",
    "        print(f\"Computer chose {computer_choice} and you chose {user_choice}. Hence it's a tie.\\ncomputer_score: {computer_score} your_score: {user_score}\")\n",
    "        continue\n",
    "\n",
    "    if (computer_choice == \"rock\" and user_choice == \"scissors\") or \\\n",
    "       (computer_choice == \"paper\" and user_choice == \"rock\") or \\\n",
    "       (computer_choice == \"scissors\" and user_choice == \"paper\"):\n",
    "        computer_score += 1\n",
    "        print(f\"{computer_choice} beats {user_choice}. Computer won.\\ncomputer_score: {computer_score} your_score: {user_score}\")\n",
    "    else:\n",
    "        user_score += 1\n",
    "        print(f\"{user_choice} beats {computer_choice}. You won.\\nyour_score: {user_score} computer_score: {computer_score}\")\n",
    "    continue\n",
    "\n"
   ]
  },
  {
   "cell_type": "markdown",
   "id": "323038bb",
   "metadata": {},
   "source": [
    "##Blackjack\n"
   ]
  },
  {
   "cell_type": "code",
   "execution_count": 22,
   "id": "9123ce8b",
   "metadata": {},
   "outputs": [
    {
     "name": "stdout",
     "output_type": "stream",
     "text": [
      "False\n",
      "None\n",
      "True\n",
      "and\n",
      "as\n",
      "assert\n",
      "async\n",
      "await\n",
      "break\n",
      "class\n",
      "continue\n",
      "def\n",
      "del\n",
      "elif\n",
      "else\n",
      "except\n",
      "finally\n",
      "for\n",
      "from\n",
      "global\n",
      "if\n",
      "import\n",
      "in\n",
      "is\n",
      "lambda\n",
      "nonlocal\n",
      "not\n",
      "or\n",
      "pass\n",
      "raise\n",
      "return\n",
      "try\n",
      "while\n",
      "with\n",
      "yield\n"
     ]
    }
   ],
   "source": [
    "import keyword\n",
    "\n",
    "for kw in keyword.kwlist:\n",
    "    print(kw)\n"
   ]
  },
  {
   "cell_type": "code",
   "execution_count": null,
   "id": "f5eb28b7",
   "metadata": {},
   "outputs": [
    {
     "name": "stdout",
     "output_type": "stream",
     "text": [
      "This program prints the number of days for the month provided as input\n",
      "The number of days in February are : 29 if leap year else 28\n",
      "The number of days in Err are : 30\n",
      "The number of days in Err are : 30\n",
      "The number of days in  are : 30\n",
      "The number of days in  are : 30\n",
      "The number of days in  are : 30\n",
      "The number of days in  are : 30\n"
     ]
    }
   ],
   "source": [
    "from time import sleep\n",
    "\n",
    "print(\"This program prints the number of days for the month provided as input\")\n",
    "\n",
    "sleep(2)\n",
    "\n",
    "while True:\n",
    "    month = input(\"Enter the name of the Month or type ERR to exit: \").title().strip()\n",
    "\n",
    "    match month:\n",
    "        case \"January\" | \"March\" | \"May\" | \"July\" | \"August\" | \"October\" | \"December\":\n",
    "            print(f\"The number of days in {month} are : 31\")\n",
    "\n",
    "        case \"February\":\n",
    "            print(f\"The number of days in {month} are : 29 if leap year else 28\")\n",
    "\n",
    "        case \"ERR\":\n",
    "            print(\"Exiting the program. Goodbye!\")\n",
    "            break\n",
    "\n",
    "        case _:\n",
    "            print(f\"The number of days in {month} are : 30\")"
   ]
  },
  {
   "cell_type": "code",
   "execution_count": null,
   "id": "06380e13",
   "metadata": {},
   "outputs": [],
   "source": []
  }
 ],
 "metadata": {
  "kernelspec": {
   "display_name": "Python 3",
   "language": "python",
   "name": "python3"
  },
  "language_info": {
   "codemirror_mode": {
    "name": "ipython",
    "version": 3
   },
   "file_extension": ".py",
   "mimetype": "text/x-python",
   "name": "python",
   "nbconvert_exporter": "python",
   "pygments_lexer": "ipython3",
   "version": "3.13.7"
  }
 },
 "nbformat": 4,
 "nbformat_minor": 5
}
