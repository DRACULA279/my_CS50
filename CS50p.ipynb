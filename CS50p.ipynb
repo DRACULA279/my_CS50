{
 "cells": [
  {
   "cell_type": "markdown",
   "id": "b57acbcb",
   "metadata": {},
   "source": [
    "Hello_world"
   ]
  },
  {
   "cell_type": "code",
   "execution_count": 2,
   "id": "a0758678",
   "metadata": {},
   "outputs": [
    {
     "name": "stdout",
     "output_type": "stream",
     "text": [
      "Hello, World!\n"
     ]
    }
   ],
   "source": [
    "print(\"Hello, World!\")"
   ]
  },
  {
   "cell_type": "markdown",
   "id": "0aa754b9",
   "metadata": {},
   "source": [
    "Input_name"
   ]
  },
  {
   "cell_type": "code",
   "execution_count": 5,
   "id": "6a1f3aaa",
   "metadata": {},
   "outputs": [
    {
     "name": "stdout",
     "output_type": "stream",
     "text": [
      "Hello, DRACULA\n"
     ]
    }
   ],
   "source": [
    "user_name = input(\"What is your name?\")\n",
    "print(f\"Hello, {user_name}\")"
   ]
  },
  {
   "cell_type": "markdown",
   "id": "e03be807",
   "metadata": {},
   "source": [
    "NUMBERS"
   ]
  },
  {
   "cell_type": "code",
   "execution_count": 13,
   "id": "50299290",
   "metadata": {},
   "outputs": [
    {
     "name": "stdout",
     "output_type": "stream",
     "text": [
      "4 + 5 = 9\n",
      "4 - 5 = -1\n",
      "The product of 4 and 5 = 20\n",
      "4 / 5 = 0.8\n",
      "The remainder when 4 is divided by 5 = 4\n",
      "4 to the power of 5 = 1024\n"
     ]
    }
   ],
   "source": [
    "x = int(input(\"x: \"))\n",
    "y = int(input(\"y: \"))\n",
    "user_input = input(\"\"\"What is that you're seeking of these numbers?:   \\n\n",
    "                   Sum, Difference, Product, \\n\n",
    "                   Quotient, Power, Remainder, \n",
    "                   \\nAll\"\"\").strip().lower()\n",
    "\n",
    "if user_input == \"sum\":\n",
    "    print(f\"{x} + {y} = {x + y}\")\n",
    "elif user_input == \"difference\":\n",
    "    print(f\"{x} - {y} = {x - y}\")\n",
    "elif user_input == \"product\":\n",
    "    print(f\"The product of {x} and {y} = {x * y}\")\n",
    "elif user_input == \"quotient\":\n",
    "    print(f\"{x} / {y} = {x / y}\")\n",
    "elif user_input == \"remainder\":\n",
    "    print(f\"The remainder when {x} is divided by {y} = {x % y}\")\n",
    "elif user_input == \"power\":\n",
    "    print(f\"{x} to the power of {y} = {x ** y}\")   \n",
    "elif y == 0 and user_input in [\"quotient\", \"remainder\"]:\n",
    "    print(\"Undefined\")  \n",
    "elif user_input not in [\"sum\", \"difference\", \"product\", \"quotient\", \"remainder\", \"all\"]:\n",
    "    print(\"Invalid operation\")\n",
    "elif user_input == \"all\":\n",
    "    print(f\"{x} + {y} = {x + y}\")\n",
    "    print(f\"{x} - {y} = {x - y}\")\n",
    "    print(f\"The product of {x} and {y} = {x * y}\")\n",
    "    print(f\"{x} / {y} = {x / y}\")\n",
    "    print(f\"The remainder when {x} is divided by {y} = {x % y}\")\n",
    "    print(f\"{x} to the power of {y} = {x ** y}\")  \n"
   ]
  },
  {
   "cell_type": "markdown",
   "id": "202c08ab",
   "metadata": {},
   "source": [
    "Functions"
   ]
  },
  {
   "cell_type": "code",
   "execution_count": null,
   "id": "849344af",
   "metadata": {},
   "outputs": [],
   "source": [
    "def add(x, y):\n",
    "    return x + y\n",
    "\n",
    "def subtract(x, y):\n",
    "    return x - y\n",
    "\n",
    "def multiply(x, y):\n",
    "    return x * y\n",
    "\n",
    "def divide(x, y):\n",
    "    if y == 0:\n",
    "        return \"Undefined\"\n",
    "    return x / y\n",
    "\n",
    "def remainder(x, y):\n",
    "    if y == 0:\n",
    "        return \"Undefined\"\n",
    "    return x % y\n",
    "\n",
    "def power(x, y):\n",
    "    return x ** y\n",
    "\n",
    "def all_operations(x, y):\n",
    "    print(f\"{x} + {y} = {add(x, y)}\")\n",
    "    print(f\"{x} - {y} = {subtract(x, y)}\")\n",
    "    print(f\"The product of {x} and {y} = {multiply(x, y)}\")\n",
    "    print(f\"{x} / {y} = {divide(x, y)}\")\n",
    "    print(f\"The remainder when {x} is divided by {y} = {remainder(x, y)}\")\n",
    "    print(f\"{x} to the power of {y} = {power(x, y)}\")\n",
    "\n",
    "x = int(input(\"x: \"))\n",
    "y = int(input(\"y: \"))\n",
    "user_input = input(\"\"\"What is that you're seeking of these numbers?:   \n",
    "                   Sum, Difference, Product, \n",
    "                   Quotient, Power, Remainder, \n",
    "                   All\"\"\").strip().lower()\n",
    "\n",
    "if user_input == \"sum\":\n",
    "    print(f\"{x} + {y} = {add(x, y)}\")\n",
    "elif user_input == \"difference\":\n",
    "    print(f\"{x} - {y} = {subtract(x, y)}\")\n",
    "elif user_input == \"product\":\n",
    "    print(f\"The product of {x} and {y} = {multiply(x, y)}\")\n",
    "elif user_input == \"quotient\":\n",
    "    print(f\"{x} / {y} = {divide(x, y)}\")\n",
    "elif user_input == \"remainder\":\n",
    "    print(f\"The remainder when {x} is divided by {y} = {remainder(x, y)}\")\n",
    "elif user_input == \"power\":\n",
    "    print(f\"{x} to the power of {y} = {power(x, y)}\")\n",
    "elif user_input == \"all\":\n",
    "    all_operations(x, y)\n",
    "else:\n",
    "    print(\"Invalid operation\")"
   ]
  },
  {
   "cell_type": "markdown",
   "id": "e00cf01a",
   "metadata": {},
   "source": [
    "function - even or odd "
   ]
  },
  {
   "cell_type": "code",
   "execution_count": 1,
   "id": "76563c56",
   "metadata": {},
   "outputs": [
    {
     "name": "stdout",
     "output_type": "stream",
     "text": [
      "4 is even.\n"
     ]
    }
   ],
   "source": [
    "def even_or_odd():\n",
    "    num = int(input(\"Enter a number: \"))\n",
    "    if num % 2 == 0:\n",
    "        print(f\"{num} is even.\")\n",
    "    else:\n",
    "        print(f\"{num} is odd.\")\n",
    "even_or_odd()\n"
   ]
  },
  {
   "cell_type": "markdown",
   "id": "0fbf2893",
   "metadata": {},
   "source": [
    "Prime Numbers"
   ]
  },
  {
   "cell_type": "code",
   "execution_count": 3,
   "id": "10956145",
   "metadata": {},
   "outputs": [
    {
     "name": "stdout",
     "output_type": "stream",
     "text": [
      "The number 56 is not a prime number as its factors are: 1,2,4,7,8,14,28 and 56\n"
     ]
    }
   ],
   "source": [
    "def prime_checker():\n",
    "    while True:\n",
    "        num = input(\"Enter a number greater than 1 to check if its a prime or hit Esc to exit: \")\n",
    "\n",
    "        if not num.isdigit():\n",
    "            print(\"What part of 'Enter a NUMBER' don't you understand? Enter a number greater than 1 or hit Esc to exit: \")\n",
    "            continue\n",
    "        \n",
    "        num = int(num)\n",
    "\n",
    "        if num <= 1:\n",
    "            print(\"What part of 'number GREATER THAN 1' don't you understand? Enter a number greater than 1 or hit Esc to exit: \")\n",
    "            continue\n",
    "\n",
    "        factors = [i for i in range(1, num + 1) if num % i == 0]\n",
    "        print(\n",
    "            f\"The number {num} is a prime number.\" \n",
    "            if len(factors) == 2\n",
    "            else\n",
    "            f\"The number {num} is not a prime number as its factors are: {','.join(str(f) for f in factors[:-1])} and {factors[-1]}\"\n",
    "        )\n",
    "        break\n",
    "\n",
    "prime_checker()"
   ]
  },
  {
   "cell_type": "markdown",
   "id": "9bb5c74f",
   "metadata": {},
   "source": []
  }
 ],
 "metadata": {
  "kernelspec": {
   "display_name": "Python 3",
   "language": "python",
   "name": "python3"
  },
  "language_info": {
   "codemirror_mode": {
    "name": "ipython",
    "version": 3
   },
   "file_extension": ".py",
   "mimetype": "text/x-python",
   "name": "python",
   "nbconvert_exporter": "python",
   "pygments_lexer": "ipython3",
   "version": "3.13.7"
  }
 },
 "nbformat": 4,
 "nbformat_minor": 5
}
